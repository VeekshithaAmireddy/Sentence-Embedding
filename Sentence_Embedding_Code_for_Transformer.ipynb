{
  "nbformat": 4,
  "nbformat_minor": 0,
  "metadata": {
    "colab": {
      "provenance": [],
      "authorship_tag": "ABX9TyOwQBzxpxmQtFv+8xt3Ykon",
      "include_colab_link": true
    },
    "kernelspec": {
      "name": "python3",
      "display_name": "Python 3"
    },
    "language_info": {
      "name": "python"
    }
  },
  "cells": [
    {
      "cell_type": "markdown",
      "metadata": {
        "id": "view-in-github",
        "colab_type": "text"
      },
      "source": [
        "<a href=\"https://colab.research.google.com/github/2003Yash/sentence-embedding/blob/main/Sentence_Embedding_Code_for_Transformer.ipynb\" target=\"_parent\"><img src=\"https://colab.research.google.com/assets/colab-badge.svg\" alt=\"Open In Colab\"/></a>"
      ]
    },
    {
      "cell_type": "code",
      "source": [
        "import torch\n",
        "import numpy as n"
      ],
      "metadata": {
        "id": "4GsZb8GPly88"
      },
      "execution_count": null,
      "outputs": []
    },
    {
      "cell_type": "code",
      "source": [
        "english_file = 'drive/MyDrive/translation_en_kn/train.en'\n",
        "kannada_file = 'drive/MyDrive/translation_en_kn/train.kn'\n",
        "\n",
        "START_TOKEN = ''\n",
        "PADDING_TOKEN = ''\n",
        "END_TOKEN = ''\n",
        "\n",
        "#like telugu it's a aplha-syllable languge i.e.., each letter represents a syllable\n",
        "kannada_vocabulary = [START_TOKEN, ' ', '!', '\"', '#', '$', '%', '&', \"'\", '(', ')', '*', '+', ',', '-', '.', '/',\n",
        "                      '0', '1', '2', '3', '4', '5', '6', '7', '8', '9', ':', '<', '=', '>', '?', 'ˌ',\n",
        "                      'ँ', 'ఆ', 'ఇ', 'ా', 'ి', 'ీ', 'ు', 'ూ',\n",
        "                      'ಅ', 'ಆ', 'ಇ', 'ಈ', 'ಉ', 'ಊ', 'ಋ', 'ೠ', 'ಌ', 'ಎ', 'ಏ', 'ಐ', 'ಒ', 'ಓ', 'ಔ',\n",
        "                      'ಕ', 'ಖ', 'ಗ', 'ಘ', 'ಙ',\n",
        "                      'ಚ', 'ಛ', 'ಜ', 'ಝ', 'ಞ',\n",
        "                      'ಟ', 'ಠ', 'ಡ', 'ಢ', 'ಣ',\n",
        "                      'ತ', 'ಥ', 'ದ', 'ಧ', 'ನ',\n",
        "                      'ಪ', 'ಫ', 'ಬ', 'ಭ', 'ಮ',\n",
        "                      'ಯ', 'ರ', 'ಱ', 'ಲ', 'ಳ', 'ವ', 'ಶ', 'ಷ', 'ಸ', 'ಹ',\n",
        "                      '಼', 'ಽ', 'ಾ', 'ಿ', 'ೀ', 'ು', 'ೂ', 'ೃ', 'ೄ', 'ೆ', 'ೇ', 'ೈ', 'ೊ', 'ೋ', 'ೌ', '್', 'ೕ', 'ೖ', 'ೞ', 'ೣ', 'ಂ', 'ಃ',\n",
        "                      '೦', '೧', '೨', '೩', '೪', '೫', '೬', '೭', '೮', '೯', PADDING_TOKEN, END_TOKEN]\n",
        "\n",
        "#english is a phonetic alphabet i.e.., we commbine letter to make a syllable\n",
        "english_vocabulary = [START_TOKEN, ' ', '!', '\"', '#', '$', '%', '&', \"'\", '(', ')', '*', '+', ',', '-', '.', '/',\n",
        "                        '0', '1', '2', '3', '4', '5', '6', '7', '8', '9',\n",
        "                        ':', '<', '=', '>', '?', '@',\n",
        "                        'A', 'B', 'C', 'D', 'E', 'F', 'G', 'H', 'I', 'J', 'K', 'L',\n",
        "                        'M', 'N', 'O', 'P', 'Q', 'R', 'S', 'T', 'U', 'V', 'W', 'X',\n",
        "                        'Y', 'Z',\n",
        "                        '[', '\\', ']', '^', '_', '`',\n",
        "                        'a', 'b', 'c', 'd', 'e', 'f', 'g', 'h', 'i', 'j', 'k', 'l',\n",
        "                        'm', 'n', 'o', 'p', 'q', 'r', 's', 't', 'u', 'v', 'w', 'x',\n",
        "                        'y', 'z',\n",
        "                        '{', '|', '}', '~', PADDING_TOKEN, END_TOKEN]"
      ],
      "metadata": {
        "id": "StomGIstl0Pw"
      },
      "execution_count": null,
      "outputs": []
    },
    {
      "cell_type": "code",
      "source": [
        "text = 'ಕನ್ನಡ'\n",
        "list(text)"
      ],
      "metadata": {
        "id": "2upCs7yil9tr"
      },
      "execution_count": null,
      "outputs": []
    },
    {
      "cell_type": "code",
      "source": [
        "'ಕ' + 'ಾ'"
      ],
      "metadata": {
        "id": "gwuz053EmTne"
      },
      "execution_count": null,
      "outputs": []
    },
    {
      "cell_type": "code",
      "source": [
        "# we are teaching the model to train for each letter not a word since words might create unneccesary complexity in inference and letter inference is a lot faster\n",
        "index_to_kannada = {k:v for k,v in enumerate(kannada_vocabulary)} #mapping kanada letter to an index\n",
        "kannada_to_index = {v:k for k,v in enumerate(kannada_vocabulary)} #vice versa\n",
        "index_to_english = {k:v for k,v in enumerate(english_vocabulary)} #mapping english letter to an index\n",
        "english_to_index = {v:k for k,v in enumerate(english_vocabulary)} #vice versa\n",
        "#we will create english vector and we will not find similar kanada vector instead as we learnt we will find the next most probable vector for that vector."
      ],
      "metadata": {
        "id": "7gBwxv65mftk"
      },
      "execution_count": null,
      "outputs": []
    },
    {
      "cell_type": "code",
      "source": [
        "#reading datasets from g-drive\n",
        "with open(english_file, 'r') as file:\n",
        "    english_sentences = file.readlines()\n",
        "with open(kannada_file, 'r') as file:\n",
        "    kannada_sentences = file.readlines()\n",
        "\n",
        "# Limit Number of sentences to consider\n",
        "TOTAL_SENTENCES = 100000\n",
        "english_sentences = english_sentences[:TOTAL_SENTENCES] #picking first 100,000 sentences from eng dataset\n",
        "kannada_sentences = kannada_sentences[:TOTAL_SENTENCES] #picking first 100,000 sentences from kanada dataset\n",
        "english_sentences = [sentence.rstrip('\\n') for sentence in english_sentences]\n",
        "kannada_sentences = [sentence.rstrip('\\n') for sentence in kannada_sentences]"
      ],
      "metadata": {
        "id": "bvuO8zQ8mgMr"
      },
      "execution_count": null,
      "outputs": []
    },
    {
      "cell_type": "code",
      "source": [
        "english_sentences[:10] #printing first 10 sentences"
      ],
      "metadata": {
        "id": "qloCEQgEmi86"
      },
      "execution_count": null,
      "outputs": []
    },
    {
      "cell_type": "code",
      "source": [
        "kannada_sentences[:10] #printing first 10 sentences"
      ],
      "metadata": {
        "id": "7BeST15gmlRV"
      },
      "execution_count": null,
      "outputs": []
    },
    {
      "cell_type": "code",
      "source": [
        "max(len(x) for x in kannada_sentences), max(len(x) for x in english_sentences), #finding max number of sentences in both the sentences"
      ],
      "metadata": {
        "id": "ALTl0JtYmn30"
      },
      "execution_count": null,
      "outputs": []
    },
    {
      "cell_type": "code",
      "source": [
        "PERCENTILE = 97\n",
        "#dist based on sentence length we get 97 percentile length i.e.., 172 i.ee., each dataset have 97% data with less than 172 character or sentence length\n",
        "print( f\"{PERCENTILE}th percentile length Kannada: {np.percentile([len(x) for x in kannada_sentences], PERCENTILE)}\" )\n",
        "print( f\"{PERCENTILE}th percentile length English: {np.percentile([len(x) for x in english_sentences], PERCENTILE)}\" )"
      ],
      "metadata": {
        "id": "eGgPY9rRmq2K"
      },
      "execution_count": null,
      "outputs": []
    },
    {
      "cell_type": "code",
      "source": [
        "#based on above percentile we set the value to 200\n",
        "max_sequence_length = 200\n",
        "\n",
        "def is_valid_tokens(sentence, vocab): #valid token if the chars of sentence match with varnamala / aplhabets with no foreign chars\n",
        "    for token in list(set(sentence)):\n",
        "        if token not in vocab:\n",
        "            return False\n",
        "    return True\n",
        "\n",
        "def is_valid_length(sentence, max_sequence_length): # if sentence length is more than 200 chars then it's invalid\n",
        "    return len(list(sentence)) < (max_sequence_length - 1) # need to re-add the end token so leaving 1 space\n",
        "\n",
        "\n",
        "valid_sentence_indicies = []# we will count sentences only if they have valid_tokens in valid_length\n",
        "for index in range(len(kannada_sentences)):\n",
        "    kannada_sentence, english_sentence = kannada_sentences[index], english_sentences[index]\n",
        "    if is_valid_length(kannada_sentence, max_sequence_length) \\\n",
        "      and is_valid_length(english_sentence, max_sequence_length) \\\n",
        "      and is_valid_tokens(kannada_sentence, kannada_vocabulary):\n",
        "        valid_sentence_indicies.append(index)\n",
        "\n",
        "print(f\"Number of sentences: {len(kannada_sentences)}\")  #original dataset length before checking validity\n",
        "print(f\"Number of valid sentences: {len(valid_sentence_indicies)}\") #kanada dataset length after checking validity"
      ],
      "metadata": {
        "id": "bF9QZBXVmtdn"
      },
      "execution_count": null,
      "outputs": []
    },
    {
      "cell_type": "code",
      "source": [
        "kannada_sentences = [kannada_sentences[i] for i in valid_sentence_indicies]  #creating a array of valid kanada sentences from valid_sentence array\n",
        "english_sentences = [english_sentences[i] for i in valid_sentence_indicies]  #creating a array of valid eng sentences from valid_sentence array"
      ],
      "metadata": {
        "id": "QQOlevjFmwUL"
      },
      "execution_count": null,
      "outputs": []
    },
    {
      "cell_type": "code",
      "source": [
        "kannada_sentences[:3] # just printing the first three sentences from valid kanada dataset"
      ],
      "metadata": {
        "id": "9vGbyhy4my3B"
      },
      "execution_count": null,
      "outputs": []
    },
    {
      "cell_type": "code",
      "source": [
        "from torch.utils.data import Dataset, DataLoader\n",
        "\n",
        "#using pytorch dataset fucntion we can create dataset without too much code\n",
        "class TextDataset(Dataset):\n",
        "    def __init__(self, english_sentences, kannada_sentences):\n",
        "        self.english_sentences = english_sentences\n",
        "        self.kannada_sentences = kannada_sentences\n",
        "\n",
        "    def __len__(self):\n",
        "        return len(self.english_sentences)\n",
        "\n",
        "    def __getitem__(self, idx):\n",
        "        return self.english_sentences[idx], self.kannada_sentences[idx]\n",
        "\n",
        "# we will find and batch the kanada and english sentences together"
      ],
      "metadata": {
        "id": "Jno_F0UXm3NS"
      },
      "execution_count": null,
      "outputs": []
    },
    {
      "cell_type": "code",
      "source": [
        "dataset = TextDataset(english_sentences, kannada_sentences) #joining both sentences"
      ],
      "metadata": {
        "id": "BLNzcsiAm3rU"
      },
      "execution_count": null,
      "outputs": []
    },
    {
      "cell_type": "code",
      "source": [
        "len(dataset)"
      ],
      "metadata": {
        "id": "GMuSrqzym7Kh"
      },
      "execution_count": null,
      "outputs": []
    },
    {
      "cell_type": "code",
      "source": [
        "dataset[1] #printing 2nd dataset value which is a english and it's corresponding kanada sentence"
      ],
      "metadata": {
        "id": "7um_x31lm7gE"
      },
      "execution_count": null,
      "outputs": []
    },
    {
      "cell_type": "code",
      "source": [
        "batch_size = 3 # each time we tune our hyperparams for 3 sentences i.e.., we take account for loss of all 3 rows and we average them and backpropogate that avg loss based on differentiation\n",
        "train_loader = DataLoader(dataset, batch_size)\n",
        "iterator = iter(train_loader)"
      ],
      "metadata": {
        "id": "PN9QkYt3m-Yj"
      },
      "execution_count": null,
      "outputs": []
    },
    {
      "cell_type": "code",
      "source": [
        "for batch_num, batch in enumerate(iterator):\n",
        "  #making batch by breaking batch maker when there are 3 items in the batch\n",
        "    print(batch)\n",
        "    if batch_num > 3:\n",
        "        break"
      ],
      "metadata": {
        "id": "mWr6-HwQnAS_"
      },
      "execution_count": null,
      "outputs": []
    },
    {
      "cell_type": "code",
      "source": [
        "def tokenize(sentence, language_to_index, start_token=True, end_token=True):  #we put satrt and end tokens for the embedding\n",
        "  # takes the character to number embedding from 4th cell and use it tokenize  the while sentence\n",
        "    sentence_word_indicies = [language_to_index[token] for token in list(sentence)]\n",
        "    if start_token:\n",
        "        sentence_word_indicies.insert(0, language_to_index[START_TOKEN]) #if start token is found push it to starting char place\n",
        "    if end_token:\n",
        "        sentence_word_indicies.append(language_to_index[END_TOKEN]) # if end token is found push it to last char place\n",
        "    for _ in range(len(sentence_word_indicies), max_sequence_length): # add padding token in the rest of sentence gap\n",
        "        sentence_word_indicies.append(language_to_index[PADDING_TOKEN])\n",
        "    return torch.tensor(sentence_word_indicies)"
      ],
      "metadata": {
        "id": "7UeHQXo_nCU8"
      },
      "execution_count": null,
      "outputs": []
    },
    {
      "cell_type": "code",
      "source": [
        "batch # prints the rows and their translation for the current batch"
      ],
      "metadata": {
        "id": "G-nyfjR_nEVC"
      },
      "execution_count": null,
      "outputs": []
    },
    {
      "cell_type": "code",
      "source": [
        "batch[sentence_num] #prints the 3 english sentences without their translation"
      ],
      "metadata": {
        "id": "2OyYm_jCnGg3"
      },
      "execution_count": null,
      "outputs": []
    },
    {
      "cell_type": "code",
      "source": [
        "eng_tokenized, kn_tokenized = [], [] # this line gives all tokeninzed eng and kanada chars\n",
        "for sentence_num in range(batch_size): #tokenize them as per their language token\n",
        "    eng_sentence, kn_sentence = batch[0][sentence_num], batch[1][sentence_num]\n",
        "    eng_tokenized.append( tokenize(eng_sentence, english_to_index, start_token=False, end_token=False) )\n",
        "    kn_tokenized.append( tokenize(kn_sentence, kannada_to_index, start_token=True, end_token=True) )\n",
        "eng_tokenized = torch.stack(eng_tokenized)\n",
        "kn_tokenized = torch.stack(kn_tokenized)\n"
      ],
      "metadata": {
        "id": "1IOUTEX3nIjL"
      },
      "execution_count": null,
      "outputs": []
    },
    {
      "cell_type": "code",
      "source": [
        "eng_tokenized #prints the 3 eng tokenized sentences"
      ],
      "metadata": {
        "id": "KA19ph5enK3y"
      },
      "execution_count": null,
      "outputs": []
    },
    {
      "cell_type": "code",
      "source": [
        "NEG_INFTY = -1e9 # to mask the attention vector,\n",
        "#we use this low value instead of -int is because this value in future is exponentially calculated for softmax\n",
        "# so we take low since -int in exp is 0 and if all rows of soft max are zero this results in NAN (not a number) error in model and model crashes\n",
        "\n",
        "def create_masks(eng_batch, kn_batch):\n",
        "    num_sentences = len(eng_batch)\n",
        "    look_ahead_mask = torch.full([max_sequence_length, max_sequence_length] , True)\n",
        "    look_ahead_mask = torch.triu(look_ahead_mask, diagonal=1)\n",
        "    encoder_padding_mask = torch.full([num_sentences, max_sequence_length, max_sequence_length] , False)\n",
        "    decoder_padding_mask_self_attention = torch.full([num_sentences, max_sequence_length, max_sequence_length] , False)\n",
        "    decoder_padding_mask_cross_attention = torch.full([num_sentences, max_sequence_length, max_sequence_length] , False)\n",
        "\n",
        "    for idx in range(num_sentences):\n",
        "      eng_sentence_length, kn_sentence_length = len(eng_batch[idx]), len(kn_batch[idx])\n",
        "      eng_chars_to_padding_mask = np.arange(eng_sentence_length + 1, max_sequence_length)\n",
        "      kn_chars_to_padding_mask = np.arange(kn_sentence_length + 1, max_sequence_length)\n",
        "      encoder_padding_mask[idx, :, eng_chars_to_padding_mask] = True\n",
        "      encoder_padding_mask[idx, eng_chars_to_padding_mask, :] = True\n",
        "      decoder_padding_mask_self_attention[idx, :, kn_chars_to_padding_mask] = True\n",
        "      decoder_padding_mask_self_attention[idx, kn_chars_to_padding_mask, :] = True\n",
        "      decoder_padding_mask_cross_attention[idx, :, eng_chars_to_padding_mask] = True\n",
        "      decoder_padding_mask_cross_attention[idx, kn_chars_to_padding_mask, :] = True\n",
        "\n",
        "    encoder_self_attention_mask = torch.where(encoder_padding_mask, NEG_INFTY, 0)\n",
        "    decoder_self_attention_mask =  torch.where(look_ahead_mask + decoder_padding_mask_self_attention, NEG_INFTY, 0)\n",
        "    decoder_cross_attention_mask = torch.where(decoder_padding_mask_cross_attention, NEG_INFTY, 0)\n",
        "    print(f\"encoder_self_attention_mask {encoder_self_attention_mask.size()}: {encoder_self_attention_mask[0, :10, :10]}\")\n",
        "    print(f\"decoder_self_attention_mask {decoder_self_attention_mask.size()}: {decoder_self_attention_mask[0, :10, :10]}\")\n",
        "    print(f\"decoder_cross_attention_mask {decoder_cross_attention_mask.size()}: {decoder_cross_attention_mask[0, :10, :10]}\")\n",
        "    return encoder_self_attention_mask, decoder_self_attention_mask, decoder_cross_attention_mask\n"
      ],
      "metadata": {
        "id": "AoocsDLfnMvF"
      },
      "execution_count": null,
      "outputs": []
    },
    {
      "cell_type": "code",
      "source": [
        "3create_masks(batch[0], batch[1]) #every batch has 2 masks\n",
        "                                  #encoder mask which is basically all zeros all open to look ahead\n",
        "                                  #decoder mask which is all zeros in lower and on principal axis and -1e9 (technically -inf) on above principal axis"
      ],
      "metadata": {
        "id": "KhydaX1MnRxN"
      },
      "execution_count": null,
      "outputs": []
    },
    {
      "cell_type": "code",
      "source": [
        "#just one combined code for sentence embedding\n",
        "class SentenceEmbedding(nn.Module):\n",
        "    \"For a given sentence, create an embedding\"\n",
        "    def __init__(self, max_sequence_length, d_model, language_to_index, START_TOKEN, END_TOKEN, PADDING_TOKEN):\n",
        "        super().__init__()\n",
        "        self.vocab_size = len(language_to_index)\n",
        "        self.max_sequence_length = max_sequence_length\n",
        "        self.embedding = nn.Embedding(self.vocab_size, d_model)\n",
        "        self.language_to_index = language_to_index\n",
        "        self.position_encoder = PositionalEncoding(d_model, max_sequence_length)\n",
        "        self.dropout = nn.Dropout(p=0.1)\n",
        "        self.START_TOKEN = START_TOKEN\n",
        "        self.END_TOKEN = END_TOKEN\n",
        "        self.PADDING_TOKEN = PADDING_TOKEN\n",
        "\n",
        "    def batch_tokenize(self, batch, start_token=True, end_token=True):\n",
        "\n",
        "        def tokenize(sentence, start_token=True, end_token=True):\n",
        "            sentence_word_indicies = [self.language_to_index[token] for token in list(sentence)]\n",
        "            if start_token:\n",
        "                sentence_word_indicies.insert(0, self.language_to_index[self.START_TOKEN])\n",
        "            if end_token:\n",
        "                sentence_word_indicies.append(self.language_to_index[self.END_TOKEN])\n",
        "            for _ in range(len(sentence_word_indicies), self.max_sequence_length):\n",
        "                sentence_word_indicies.append(self.language_to_index[self.PADDING_TOKEN])\n",
        "            return torch.tensor(sentence_word_indicies)\n",
        "\n",
        "        tokenized = []\n",
        "        for sentence_num in range(len(batch)):\n",
        "           tokenized.append( tokenize(batch[sentence_num], start_token, end_token) )\n",
        "        tokenized = torch.stack(tokenized)\n",
        "        return tokenized.to(get_device())\n",
        "\n",
        "         def forward(self, x, end_token=True): # sentence\n",
        "        x = self.batch_tokenize(x ,end_token)\n",
        "        x = self.embedding(x)\n",
        "        pos = self.position_encoder().to(get_device())\n",
        "        x = self.dropout(x + pos)\n",
        "        return x\n"
      ],
      "metadata": {
        "id": "CMDCNjq3naZI"
      },
      "execution_count": null,
      "outputs": []
    }
  ]
}